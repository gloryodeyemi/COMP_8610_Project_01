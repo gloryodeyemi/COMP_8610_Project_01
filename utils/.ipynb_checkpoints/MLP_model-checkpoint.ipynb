{
 "cells": [
  {
   "cell_type": "code",
   "execution_count": null,
   "id": "e2cc813b",
   "metadata": {},
   "outputs": [],
   "source": [
    "from sklearn.model_selection import train_test_split\n",
    "from sklearn.metrics import confusion_matrix\n",
    "from sklearn.metrics import roc_curve\n",
    "from sklearn import metrics\n",
    "\n",
    "import tensorflow as tf\n",
    "\n",
    "from keras.models import Sequential\n",
    "from keras.layers import Dense\n",
    "from keras.layers import Activation\n",
    "\n",
    "import matplotlib.pyplot as plt\n",
    "import seaborn as sns\n",
    "import pandas as pd\n",
    "import numpy as np\n",
    "import matplotlib"
   ]
  },
  {
   "cell_type": "code",
   "execution_count": null,
   "id": "498573d2",
   "metadata": {},
   "outputs": [],
   "source": [
    "# split dataset into input and target variables\n",
    "def split_data(data):\n",
    "    print(\"Splitting dataset...\")\n",
    "    print(\"--------------------\")\n",
    "    x_features = data.loc[:, data.columns != 'target']\n",
    "    target_variable = data.loc[:, 'target']\n",
    "    # split data into training (80%) and testing (20%)\n",
    "    x_train, x_test, y_train, y_test = train_test_split(x_features, target_variable, test_size=0.2, random_state=42)\n",
    "    # split training split into training (80%) and validation (20%)\n",
    "    x_train, x_val, y_train, y_val = train_test_split(x_train, y_train, test_size=0.2, random_state=42)\n",
    "    return x_train, x_test, y_train, y_test, x_val, y_val"
   ]
  },
  {
   "cell_type": "code",
   "execution_count": null,
   "id": "69c43053",
   "metadata": {},
   "outputs": [],
   "source": [
    "# define the MLP model\n",
    "def build_model():   \n",
    "    print(\"Building model...\")\n",
    "    print(\"-----------------\")\n",
    "    model = Sequential([  \n",
    "          # dense layer 1\n",
    "        Dense(32, input_shape=(23,), activation='relu'),  \n",
    "\n",
    "        # dense layer 2\n",
    "        Dense(16, activation='relu'), \n",
    "\n",
    "          # output layer\n",
    "        Dense(1, activation='sigmoid'),  \n",
    "    ])\n",
    "    return model"
   ]
  },
  {
   "cell_type": "code",
   "execution_count": null,
   "id": "39fbabe7",
   "metadata": {},
   "outputs": [],
   "source": [
    "# compile the model\n",
    "def compile_model(model):   \n",
    "    print(\"Compiling the model...\")\n",
    "    print(\"----------------------\")\n",
    "    model.compile(optimizer='adam', loss='binary_crossentropy', metrics=['accuracy'])"
   ]
  },
  {
   "cell_type": "code",
   "execution_count": null,
   "id": "d46de0f8",
   "metadata": {},
   "outputs": [],
   "source": [
    "# train the model\n",
    "def train_model(model, x_train, y_train):\n",
    "    print(\"Training the model\")\n",
    "    print(\"------------------\")\n",
    "    model.fit(x_train, y_train, epochs=100)\n",
    "    return model"
   ]
  },
  {
   "cell_type": "code",
   "execution_count": null,
   "id": "76c5a9e6",
   "metadata": {},
   "outputs": [],
   "source": [
    "# accuracy results\n",
    "def get_accuracy(model, x_test, y_test):    \n",
    "    print(\"Results:\")\n",
    "    print(\"--------\")\n",
    "    scores = model.evaluate(x_test, y_test, verbose=False)\n",
    "    print(\"Testing accuracy: %.2f%%\\n\" % (scores[1] * 100))\n",
    "    print(\"Testing loss: %.2f%%\\n\" % (scores[0] * 100))"
   ]
  },
  {
   "cell_type": "code",
   "execution_count": null,
   "id": "cbd4e50f",
   "metadata": {},
   "outputs": [],
   "source": [
    "# make predictions\n",
    "def predict(model, x_test):\n",
    "    y_pred = model.predict(x_test > 0.5).astype(\"int32\")\n",
    "    return y_pred"
   ]
  },
  {
   "cell_type": "code",
   "execution_count": null,
   "id": "a78a5f14",
   "metadata": {},
   "outputs": [],
   "source": [
    "# confusion matrix\n",
    "def con_matrix(actual, predicted):   \n",
    "    c_matrix = confusion_matrix(actual, predicted)\n",
    "    cm_display = metrics.ConfusionMatrixDisplay(confusion_matrix = c_matrix, display_labels = [0, 1])\n",
    "    cm_display.plot()\n",
    "    plt.savefig('images/confusion_matrix.png')\n",
    "    plt.show()"
   ]
  },
  {
   "cell_type": "code",
   "execution_count": null,
   "id": "4b96e2c5",
   "metadata": {},
   "outputs": [],
   "source": [
    "# ROC curve\n",
    "def roc_curve_draw(model, x_test, y_test):  \n",
    "    y_test_pred_probability = model.predict(x_test)\n",
    "    FPR, TPR, _ = roc_curve(y_test, y_test_pred_probability)\n",
    "\n",
    "    plt.plot(FPR, TPR)\n",
    "    plt.plot([0,1], [0,1], '--', color='black')\n",
    "    plt.title('ROC Curve')\n",
    "    plt.xlabel('False-Positive Rate')\n",
    "    plt.ylabel('True-Positive Rate')\n",
    "    \n",
    "    plt.savefig('images/roc_curve.png')\n",
    "    plt.show()\n",
    "    plt.clf()"
   ]
  }
 ],
 "metadata": {
  "kernelspec": {
   "display_name": "Python 3 (ipykernel)",
   "language": "python",
   "name": "python3"
  },
  "language_info": {
   "codemirror_mode": {
    "name": "ipython",
    "version": 3
   },
   "file_extension": ".py",
   "mimetype": "text/x-python",
   "name": "python",
   "nbconvert_exporter": "python",
   "pygments_lexer": "ipython3",
   "version": "3.9.13"
  }
 },
 "nbformat": 4,
 "nbformat_minor": 5
}
