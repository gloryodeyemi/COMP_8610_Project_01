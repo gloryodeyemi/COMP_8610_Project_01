{
 "cells": [
  {
   "cell_type": "code",
   "execution_count": 1,
   "id": "d2f42ba0",
   "metadata": {},
   "outputs": [],
   "source": [
    "import numpy as np\n",
    "import pandas as pd\n",
    "from sklearn import preprocessing"
   ]
  },
  {
   "cell_type": "code",
   "execution_count": 2,
   "id": "8f8569f3",
   "metadata": {},
   "outputs": [],
   "source": [
    "def preprocess_dataset(data):\n",
    "    # get dataset info\n",
    "    print(\"Info:\")\n",
    "    print(\"-----\")\n",
    "    print(data.info())\n",
    "    print(\"\")\n",
    "    \n",
    "    # get shape\n",
    "    print(\"Shape:\")\n",
    "    print(\"------\")\n",
    "    print(data.shape)\n",
    "    print(\"\")\n",
    "    \n",
    "    # statistical summary of the dat\n",
    "    print(\"Statistical summary:\")\n",
    "    print(\"--------------------\")\n",
    "    print(data.describe())\n",
    "    print(\"\")\n",
    "    \n",
    "    # check for missing values\n",
    "    print(\"Missing values:\")\n",
    "    print(\"---------------\")\n",
    "    print(data.isnull().any())\n",
    "    print(\"\")\n",
    "    \n",
    "    # check for duplicate data\n",
    "    print(\"Duplicate data:\")\n",
    "    print(\"---------------\")\n",
    "    duplicate = data.duplicated().sum()\n",
    "    print(duplicate)\n",
    "    print(\"\")\n",
    "    \n",
    "    # remove duplicate data (if any)\n",
    "    if (duplicate > 0):\n",
    "        print(\"Removing duplicate data:\")\n",
    "        print(\"------------------------\")\n",
    "        data.drop_duplicates(keep='first', inplace=True)\n",
    "        print(\"Duplicate data removed.\")\n",
    "        print(\"\")\n",
    "      \n",
    "    # count target variable values\n",
    "    print(\"Target variable percentage, Yes=1, No=0:\\n----------------------------------------\"+\n",
    "          \"\\n\", data['target'].value_counts(normalize=True) * 100)\n",
    "    print(\"\")\n",
    "    print(\"Target variable count, Yes=1, No=0:\\n----------------------------------\"+\n",
    "          \"\\n\", data['target'].value_counts())\n",
    "    print(\"\")\n",
    "\n",
    "    return data"
   ]
  }
 ],
 "metadata": {
  "kernelspec": {
   "display_name": "Python 3 (ipykernel)",
   "language": "python",
   "name": "python3"
  },
  "language_info": {
   "codemirror_mode": {
    "name": "ipython",
    "version": 3
   },
   "file_extension": ".py",
   "mimetype": "text/x-python",
   "name": "python",
   "nbconvert_exporter": "python",
   "pygments_lexer": "ipython3",
   "version": "3.9.13"
  }
 },
 "nbformat": 4,
 "nbformat_minor": 5
}
