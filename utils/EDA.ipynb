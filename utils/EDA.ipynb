{
 "cells": [
  {
   "cell_type": "code",
   "execution_count": 1,
   "id": "d2f42ba0",
   "metadata": {},
   "outputs": [],
   "source": [
    "import numpy as np\n",
    "import pandas as pd\n",
    "\n",
    "# data visualization\n",
    "import matplotlib.pyplot as plt\n",
    "from matplotlib import rcParams\n",
    "import seaborn as sns\n",
    "import warnings\n",
    "warnings.filterwarnings(\"ignore\")\n",
    "\n",
    "# styling\n",
    "plt.style.use(\"ggplot\")\n",
    "rcParams['figure.figsize'] = (30, 15)"
   ]
  },
  {
   "cell_type": "code",
   "execution_count": 2,
   "id": "581ab420",
   "metadata": {},
   "outputs": [],
   "source": [
    "# plot histogram\n",
    "def histogram(data):\n",
    "    data.hist()\n",
    "    plt.savefig('images/histogram.png')\n",
    "    plt.show()"
   ]
  },
  {
   "cell_type": "code",
   "execution_count": 3,
   "id": "26678e6e",
   "metadata": {},
   "outputs": [],
   "source": [
    "# create 8x3 subplot\n",
    "def bivariate_analysis(data):\n",
    "    plt.subplots(8, 3, figsize=(30,30))\n",
    "\n",
    "    # plot density plot for each variable\n",
    "    for idx, col in enumerate(data.columns):\n",
    "        ax = plt.subplot(8,3, idx + 1)\n",
    "        ax.yaxis.set_ticklabels([])\n",
    "\n",
    "        sns.distplot(data.loc[data['target'] == 0][col], hist=False, axlabel=False, kde_kws={'linestyle':'-', 'color':'black', 'label':\"Not credible\"})\n",
    "        sns.distplot(data.loc[data['target'] == 1][col], hist=False, axlabel=False, kde_kws={'linestyle':'--', 'color':'black', 'label':\"Credible\"})\n",
    "\n",
    "        ax.set_title(col)\n",
    "\n",
    "    # hide last subplot\n",
    "    plt.subplot(8, 3, 24).set_visible(False)\n",
    "    plt.savefig('images/subplots.png')\n",
    "    plt.show()"
   ]
  },
  {
   "cell_type": "code",
   "execution_count": 4,
   "id": "d1817669",
   "metadata": {},
   "outputs": [],
   "source": [
    "# plot heatmap \n",
    "def get_correlation(data):\n",
    "    corr_mat = data.corr()\n",
    "    heat_map = sns.heatmap(corr_mat, \n",
    "                     cbar=True, \n",
    "                     annot=True, \n",
    "                     square=True, \n",
    "                     fmt='.2f', \n",
    "                     annot_kws={'size': 10}, \n",
    "                     yticklabels=data.columns, \n",
    "                     xticklabels=data.columns, \n",
    "                     cmap=\"Spectral_r\")\n",
    "    plt.savefig('images/heatmap.png')\n",
    "    plt.show()"
   ]
  }
 ],
 "metadata": {
  "kernelspec": {
   "display_name": "Python 3 (ipykernel)",
   "language": "python",
   "name": "python3"
  },
  "language_info": {
   "codemirror_mode": {
    "name": "ipython",
    "version": 3
   },
   "file_extension": ".py",
   "mimetype": "text/x-python",
   "name": "python",
   "nbconvert_exporter": "python",
   "pygments_lexer": "ipython3",
   "version": "3.9.13"
  }
 },
 "nbformat": 4,
 "nbformat_minor": 5
}
